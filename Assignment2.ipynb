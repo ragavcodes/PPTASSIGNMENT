{
 "cells": [
  {
   "cell_type": "code",
   "execution_count": null,
   "id": "76db7ae5-dfc2-442f-9d17-6c407c3164c7",
   "metadata": {},
   "outputs": [],
   "source": [
    "'''\n",
    "Question 1\n",
    "Given an integer array nums of 2n integers, group these integers into n pairs (a1, b1), (a2, b2),..., (an, bn) such that the sum of min(ai, bi) for all i is maximized. Return the maximized sum.\n",
    "\n",
    "Example 1:\n",
    "Input: nums = [1,4,3,2]\n",
    "Output: 4\n",
    "'''"
   ]
  },
  {
   "cell_type": "code",
   "execution_count": null,
   "id": "c59b2b0f-0ba3-431b-9e99-2a04633c8220",
   "metadata": {},
   "outputs": [],
   "source": [
    "class Solution:\n",
    "    def arrayPairSum(self, nums: List[int]) -> int:\n",
    "            nums.sort()\n",
    "            s=0\n",
    "            for i in range(0,len(nums),2):\n",
    "                s+=min(nums[i],nums[i+1])\n",
    "            return s"
   ]
  },
  {
   "cell_type": "code",
   "execution_count": null,
   "id": "81150132-c687-4a07-97ac-6ff9016d73a1",
   "metadata": {},
   "outputs": [],
   "source": [
    "'''\n",
    "Question 2\n",
    "Alice has n candies, where the ith candy is of type candyType[i]. Alice noticed that she started to gain weight, so she visited a doctor. \n",
    "\n",
    "The doctor advised Alice to only eat n / 2 of the candies she has (n is always even). Alice likes her candies very much, and she wants to eat the maximum number of different types of candies while still following the doctor's advice. \n",
    "\n",
    "Given the integer array candyType of length n, return the maximum number of different types of candies she can eat if she only eats n / 2 of them.\n",
    "\n",
    "Example 1:\n",
    "Input: candyType = [1,1,2,2,3,3]\n",
    "Output: 3\n",
    "'''"
   ]
  },
  {
   "cell_type": "code",
   "execution_count": null,
   "id": "983d0881-0da1-4cf8-910f-49e5fc6f537e",
   "metadata": {},
   "outputs": [],
   "source": [
    "class Solution:\n",
    "    def distributeCandies(self, candyType: List[int]) -> int:\n",
    "        return min(len(set(candyType)),len(candyType)//2)"
   ]
  },
  {
   "cell_type": "code",
   "execution_count": null,
   "id": "ef4edb9f-0b95-4a15-ba58-f449d6e08777",
   "metadata": {},
   "outputs": [],
   "source": [
    "'''\n",
    "Question 3\n",
    "We define a harmonious array as an array where the difference between its maximum value\n",
    "and its minimum value is exactly 1.\n",
    "\n",
    "Given an integer array nums, return the length of its longest harmonious subsequence\n",
    "among all its possible subsequences.\n",
    "\n",
    "A subsequence of an array is a sequence that can be derived from the array by deleting some or no elements without changing the order of the remaining elements.\n",
    "\n",
    "Example 1:\n",
    "Input: nums = [1,3,2,2,5,2,3,7]\n",
    "Output: 5\n",
    "\n",
    "'''"
   ]
  },
  {
   "cell_type": "code",
   "execution_count": null,
   "id": "d06705e1-0b1b-42c1-9916-0abe02bce446",
   "metadata": {},
   "outputs": [],
   "source": [
    "class Solution:\n",
    "    def findLHS(self, nums: List[int]) -> int:\n",
    "        freq = {}\n",
    "        for num in nums:\n",
    "            freq[num] = freq.get(num, 0) + 1\n",
    "        max_length = 0\n",
    "        for num in freq:\n",
    "            if num + 1 in freq:\n",
    "                max_length = max(max_length, freq[num] + freq[num + 1])\n",
    "        return max_length"
   ]
  },
  {
   "cell_type": "code",
   "execution_count": null,
   "id": "74adcc2f-f126-4092-93e7-f45ae2092e21",
   "metadata": {},
   "outputs": [],
   "source": [
    "'''\n",
    "Question 4\n",
    "You have a long flowerbed in which some of the plots are planted, and some are not.\n",
    "However, flowers cannot be planted in adjacent plots.\n",
    "Given an integer array flowerbed containing 0's and 1's, where 0 means empty and 1 means not empty, and an integer n, return true if n new flowers can be planted in the flowerbed without violating the no-adjacent-flowers rule and false otherwise.\n",
    "\n",
    "Example 1:\n",
    "Input: flowerbed = [1,0,0,0,1], n = 1\n",
    "Output: true\n",
    "'''"
   ]
  },
  {
   "cell_type": "code",
   "execution_count": null,
   "id": "9eb4d664-e4af-463f-8aa5-179e0e47bf19",
   "metadata": {},
   "outputs": [],
   "source": [
    "class Solution:\n",
    "    def canPlaceFlowers(self, flowerbed: List[int], n: int) -> bool:\n",
    "        if n == 0:\n",
    "            return True\n",
    "        for i in range(len(flowerbed)):\n",
    "            if flowerbed[i] == 0 and (i == 0 or flowerbed[i-1] == 0) and (i == len(flowerbed)-1 or flowerbed[i+1] == 0):\n",
    "                flowerbed[i] = 1\n",
    "                n -= 1\n",
    "                if n == 0:\n",
    "                    return True\n",
    "        return False"
   ]
  },
  {
   "cell_type": "code",
   "execution_count": null,
   "id": "895a8602-396a-4882-8661-c5a1dfc6ba66",
   "metadata": {},
   "outputs": [],
   "source": [
    "'''\n",
    "Question 5\n",
    "Given an integer array nums, find three numbers whose product is maximum and return the maximum product.\n",
    "\n",
    "Example 1:\n",
    "Input: nums = [1,2,3]\n",
    "Output: 6\n",
    "'''"
   ]
  },
  {
   "cell_type": "code",
   "execution_count": null,
   "id": "23475fee-914c-420f-9f20-8fcd871006a7",
   "metadata": {},
   "outputs": [],
   "source": [
    "class Solution:\n",
    "    def maximumProduct(self, nums: List[int]) -> int:\n",
    "        nums.sort()\n",
    "        return max(nums[0]*nums[1]*nums[-1],nums[-1]*nums[-2]*nums[-3])"
   ]
  },
  {
   "cell_type": "code",
   "execution_count": null,
   "id": "aa26da66-a5e5-4c84-9e38-d503ec690fe8",
   "metadata": {},
   "outputs": [],
   "source": [
    "'''\n",
    "Question 6\n",
    "Given an array of integers nums which is sorted in ascending order, and an integer target,\n",
    "write a function to search target in nums. If target exists, then return its index. Otherwise,\n",
    "return -1.\n",
    "\n",
    "You must write an algorithm with O(log n) runtime complexity.\n",
    "\n",
    "Input: nums = [-1,0,3,5,9,12], target = 9\n",
    "Output: 4\n",
    "'''"
   ]
  },
  {
   "cell_type": "code",
   "execution_count": null,
   "id": "0be242a7-f161-4fce-b592-2bd6f22c1d0a",
   "metadata": {},
   "outputs": [],
   "source": [
    "class Solution:\n",
    "    def search(self,nums:List[int],target:int)->int:\n",
    "        n=len(nums)\n",
    "        for i in range(n):\n",
    "            if nums[i]==target:\n",
    "                return i\n",
    "\n",
    "        return -1                                    "
   ]
  },
  {
   "cell_type": "code",
   "execution_count": null,
   "id": "16e08d13-ea79-42c7-a13a-bdf1642088fa",
   "metadata": {},
   "outputs": [],
   "source": [
    "'''\n",
    "Question 7\n",
    "An array is monotonic if it is either monotone increasing or monotone decreasing.\n",
    "\n",
    "An array nums is monotone increasing if for all i <= j, nums[i] <= nums[j]. An array nums is\n",
    "monotone decreasing if for all i <= j, nums[i] >= nums[j].\n",
    "\n",
    "Given an integer array nums, return true if the given array is monotonic, or false otherwise.\n",
    "\n",
    "Example 1:\n",
    "Input: nums = [1,2,2,3]\n",
    "Output: true\n",
    "'''"
   ]
  },
  {
   "cell_type": "code",
   "execution_count": null,
   "id": "d9a7a315-b806-46ee-97b2-d39809583493",
   "metadata": {},
   "outputs": [],
   "source": [
    "class Solution:\n",
    "    def isMonotonic(self, nums: List[int]) -> bool:\n",
    "        flag=0\n",
    "        for i in range(len(nums)-1):\n",
    "            if nums[i]<nums[i+1]:\n",
    "                flag=1\n",
    "                break\n",
    "        if flag==0:\n",
    "            return True\n",
    "\n",
    "        flag = 0\n",
    "        for i in range(len(nums)-1):\n",
    "            if nums[i] > nums[i + 1]:\n",
    "                flag = 1\n",
    "                break\n",
    "        if flag == 0:\n",
    "            return True\n",
    "        return False"
   ]
  },
  {
   "cell_type": "code",
   "execution_count": null,
   "id": "6bc4bec3-676b-47a4-9a27-2a9d8022276b",
   "metadata": {},
   "outputs": [],
   "source": [
    "'''\n",
    "Question 8\n",
    "You are given an integer array nums and an integer k.\n",
    "\n",
    "In one operation, you can choose any index i where 0 <= i < nums.length and change nums[i] to nums[i] + x where x is an integer from the range [-k, k]. You can apply this operation at most once for each index i.\n",
    "\n",
    "The score of nums is the difference between the maximum and minimum elements in nums.\n",
    "\n",
    "Return the minimum score of nums after applying the mentioned operation at most once for each index in it.\n",
    "\n",
    "Example 1:\n",
    "Input: nums = [1], k = 0\n",
    "Output: 0\n",
    "\n",
    "'''"
   ]
  },
  {
   "cell_type": "code",
   "execution_count": null,
   "id": "2d79001c-b4f0-4fdb-a2c1-74b1aa45f63e",
   "metadata": {},
   "outputs": [],
   "source": []
  }
 ],
 "metadata": {
  "kernelspec": {
   "display_name": "Python 3 (ipykernel)",
   "language": "python",
   "name": "python3"
  },
  "language_info": {
   "codemirror_mode": {
    "name": "ipython",
    "version": 3
   },
   "file_extension": ".py",
   "mimetype": "text/x-python",
   "name": "python",
   "nbconvert_exporter": "python",
   "pygments_lexer": "ipython3",
   "version": "3.10.8"
  }
 },
 "nbformat": 4,
 "nbformat_minor": 5
}
